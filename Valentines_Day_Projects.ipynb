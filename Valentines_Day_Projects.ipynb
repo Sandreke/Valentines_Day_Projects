{
 "cells": [
  {
   "cell_type": "markdown",
   "metadata": {},
   "source": [
    "### Sorpresa 1: Muestra tu corazón"
   ]
  },
  {
   "cell_type": "code",
   "execution_count": 1,
   "metadata": {},
   "outputs": [],
   "source": [
    "import numpy as np\n",
    "import matplotlib.pyplot as plt"
   ]
  },
  {
   "cell_type": "code",
   "execution_count": 2,
   "metadata": {},
   "outputs": [
    {
     "data": {
      "image/png": "[encoded data removed]",
      "text/plain": [
       "<Figure size 432x288 with 1 Axes>"
      ]
     },
     "metadata": {
      "needs_background": "light"
     },
     "output_type": "display_data"
    }
   ],
   "source": [
    "x_coordenadas = np.linspace(-200, 200, 600)\n",
    "y_coordenadas = np.linspace(-200, 200, 600)\n",
    "corazon_x = []\n",
    "corazon_y = []\n",
    "for y in y_coordenadas:\n",
    "    for x in x_coordenadas:\n",
    "        if ((x*0.01)**2+(y*0.01)**2-1)**3-(x*0.01)**2*(y*0.01)**3 <= 0:\n",
    "            corazon_x.append(x)\n",
    "            corazon_y.append(y)\n",
    "\n",
    "# Setear el gráfico\n",
    "plt.scatter(corazon_x, corazon_y, c=\"red\")\n",
    "plt.axis('off')\n",
    "# Guardar el gráfico en un archivo\n",
    "plt.savefig('proyecto1-corazon-2022-02-14.png')\n",
    "# Mostrar el gráfico\n",
    "plt.show()"
   ]
  },
  {
   "cell_type": "markdown",
   "metadata": {},
   "source": [
    "### Sorpresa 2: Corazón rellenado con las letras de su nombre"
   ]
  },
  {
   "cell_type": "code",
   "execution_count": 3,
   "metadata": {},
   "outputs": [
    {
     "name": "stdout",
     "output_type": "stream",
     "text": [
      "\u001b[0;31;50m\n",
      "          SolecitoSol                ecitoSoleci\n",
      "      toSolecitoSolecito          SolecitoSolecitoSo\n",
      "   lecitoSolecitoSolecitoS      olecitoSolecitoSolecito\n",
      "  SolecitoSolecitoSolecitoS    olecitoSolecitoSolecitoSo\n",
      " lecitoSolecitoSolecitoSolec  itoSolecitoSolecitoSolecito\n",
      " SolecitoSolecitoSolecitoSolecitoSolecitoSolecitoSolecito\n",
      " SolecitoSolecitoSolecitoSolecitoSolecitoSolecitoSolecito\n",
      "  SolecitoSolecitoSolecitoSolecitoSolecitoSolecitoSoleci\n",
      "  toSolecitoSolecitoSolecitoSolecitoSolecitoSolecitoSole\n",
      "    citoSolecitoSolecitoSolecitoSolecitoSolecitoSoleci\n",
      "      toSolecitoSolecitoSolecitoSolecitoSolecitoSole\n",
      "        citoSolecitoSolecitoSolecitoSolecitoSoleci\n",
      "          toSolecitoSolecitoSolecitoSolecitoSole\n",
      "            citoSolecitoSolecitoSolecitoSoleci\n",
      "              toSolecitoSolecitoSolecitoSole\n",
      "                citoSolecitoSolecitoSoleci\n",
      "                  toSolecitoSolecitoSole\n",
      "                     citoSolecitoSole\n",
      "                        citoSoleci\n",
      "                          toSole\n",
      "                            ci\n",
      "\u001b[0m\n",
      "Te amo mucho, \u001b[1;31;50mSolecito\u001b[0m. Feliz día de San Valentín!\n"
     ]
    }
   ],
   "source": [
    "__CORAZON__ = '''\n",
    "          @@@@@@@@@@@                @@@@@@@@@@@\n",
    "      @@@@@@@@@@@@@@@@@@          @@@@@@@@@@@@@@@@@@\n",
    "   @@@@@@@@@@@@@@@@@@@@@@@      @@@@@@@@@@@@@@@@@@@@@@@\n",
    "  @@@@@@@@@@@@@@@@@@@@@@@@@    @@@@@@@@@@@@@@@@@@@@@@@@@\n",
    " @@@@@@@@@@@@@@@@@@@@@@@@@@@  @@@@@@@@@@@@@@@@@@@@@@@@@@@\n",
    " @@@@@@@@@@@@@@@@@@@@@@@@@@@@@@@@@@@@@@@@@@@@@@@@@@@@@@@@\n",
    " @@@@@@@@@@@@@@@@@@@@@@@@@@@@@@@@@@@@@@@@@@@@@@@@@@@@@@@@\n",
    "  @@@@@@@@@@@@@@@@@@@@@@@@@@@@@@@@@@@@@@@@@@@@@@@@@@@@@@\n",
    "  @@@@@@@@@@@@@@@@@@@@@@@@@@@@@@@@@@@@@@@@@@@@@@@@@@@@@@\n",
    "    @@@@@@@@@@@@@@@@@@@@@@@@@@@@@@@@@@@@@@@@@@@@@@@@@@\n",
    "      @@@@@@@@@@@@@@@@@@@@@@@@@@@@@@@@@@@@@@@@@@@@@@\n",
    "        @@@@@@@@@@@@@@@@@@@@@@@@@@@@@@@@@@@@@@@@@@\n",
    "          @@@@@@@@@@@@@@@@@@@@@@@@@@@@@@@@@@@@@@\n",
    "            @@@@@@@@@@@@@@@@@@@@@@@@@@@@@@@@@@\n",
    "              @@@@@@@@@@@@@@@@@@@@@@@@@@@@@@\n",
    "                @@@@@@@@@@@@@@@@@@@@@@@@@@\n",
    "                  @@@@@@@@@@@@@@@@@@@@@@\n",
    "                     @@@@@@@@@@@@@@@@\n",
    "                        @@@@@@@@@@\n",
    "                          @@@@@@\n",
    "                            @@\n",
    "'''\n",
    "\n",
    "class Color:\n",
    "    @property\n",
    "    def RED(self):\n",
    "        return '\\x1b[0;31;50m'\n",
    "\n",
    "    @property\n",
    "    def BOLD_RED(self):\n",
    "        return '\\x1b[1;31;50m'\n",
    "\n",
    "    @property\n",
    "    def NORMAL(self):\n",
    "        return '\\x1b[0m'\n",
    "\n",
    "class San_Valentin:\n",
    "    def __init__(self, nombre):\n",
    "        self.tu_persona = nombre\n",
    "\n",
    "    def romantizar(self):\n",
    "        tu_en_mi_corazon = __CORAZON__\n",
    "        while '@' in tu_en_mi_corazon:\n",
    "            for letra in list(self.tu_persona):\n",
    "                tu_en_mi_corazon = tu_en_mi_corazon.replace('@', letra, 1)\n",
    "        return tu_en_mi_corazon\n",
    "\n",
    "    def te_amo(self):\n",
    "        C = Color()\n",
    "        return '{}{}{}\\n'\\\n",
    "               'Te amo mucho, {}{}{}. Feliz día de San Valentín!'.format(C.RED, self.romantizar(), C.NORMAL, C.BOLD_RED, self.tu_persona, C.NORMAL)\n",
    "\n",
    "def main():\n",
    "    try:\n",
    "        nombre = 'Solecito'\n",
    "    except IndexError:\n",
    "        nombre = 'Love'\n",
    "\n",
    "    mi_amada = San_Valentin(nombre)\n",
    "    print(mi_amada.te_amo())\n",
    "\n",
    "if __name__ == '__main__':\n",
    "    main()"
   ]
  },
  {
   "cell_type": "markdown",
   "metadata": {},
   "source": [
    "### Sorpresa 3: Corazón rellenado de una letra con mensaje interior"
   ]
  },
  {
   "cell_type": "code",
   "execution_count": 4,
   "metadata": {},
   "outputs": [],
   "source": [
    "import math"
   ]
  },
  {
   "cell_type": "code",
   "execution_count": 5,
   "metadata": {},
   "outputs": [
    {
     "name": "stdout",
     "output_type": "stream",
     "text": [
      "       IIIIIII             IIIIIII       \n",
      "     IIIIIIIIIII         IIIIIIIIIII     \n",
      "    IIIIIIIIIIIII       IIIIIIIIIIIII    \n",
      "   IIIIIIIIIIIIIII     IIIIIIIIIIIIIII   \n",
      "  IIIIIIIIIIIIIIIII   IIIIIIIIIIIIIIIII  \n",
      " IIIIIIIIIIIIIIIIIII IIIIIIIIIIIIIIIIIII \n",
      " IIIIIIIIIIIIIIIIIII IIIIIIIIIIIIIIIIIII \n",
      "IIIIIIIIIIIIIIIIIIIIIIIIIIIIIIIIIIIIIIIII\n",
      "IIIIIIIIIIIIIIIIIIIIIIIIIIIIIIIIIIIIIIIII\n",
      "IIIIIIIIIIIIIIIIIIIIIIIIIIIIIIIIIIIIIIIII\n",
      " IIIIIIIIIIIIIIIIIIIIIIIIIIIIIIIIIIIIIII\n",
      "  IIIIIIIIIIIIIIIIIIIIIIIIIIIIIIIIIIIII\n",
      "   IIII                          IIIII\n",
      "    III Te amo, mi Solecito! <3  IIII\n",
      "     II                          III\n",
      "      IIIIIIIIIIIIIIIIIIIIIIIIIIIII\n",
      "       IIIIIIIIIIIIIIIIIIIIIIIIIII\n",
      "        IIIIIIIIIIIIIIIIIIIIIIIII\n",
      "         IIIIIIIIIIIIIIIIIIIIIII\n",
      "          IIIIIIIIIIIIIIIIIIIII\n",
      "           IIIIIIIIIIIIIIIIIII\n",
      "            IIIIIIIIIIIIIIIII\n",
      "             IIIIIIIIIIIIIII\n",
      "              IIIIIIIIIIIII\n",
      "               IIIIIIIIIII\n",
      "                IIIIIIIII\n",
      "                 IIIIIII\n",
      "                  IIIII\n",
      "                   III\n"
     ]
    }
   ],
   "source": [
    "n = 10\n",
    " \n",
    "# Inicializar texto para imprimir en el corazón\n",
    "mensaje = \" Te amo, mi Solecito! <3 \"\n",
    " \n",
    "# Posición desde donde se colocaría el cuadro de mensaje superior\n",
    "imprimir_mensaje = 4\n",
    " \n",
    "# Agregar espacio si la longitud del mensaje es impar\n",
    "if (len(mensaje) % 2 != 0):\n",
    "    mensaje += \" \"\n",
    " \n",
    "# Bucle externo para ajustar la longitud del mensaje de la parte superior que no se maneja en esta parte\n",
    "for a in range(n):    \n",
    "    # Para imprimir espacio y variable en consecuencia\n",
    "    for b in range(4 * n + 1):    \n",
    "        # Cálculo de distancia para imprimir variable\n",
    "        distancia1 = math.sqrt(pow(a - n, 2) + pow(b - n, 2))\n",
    "        distancia2 = math.sqrt(pow(a - n, 2) + pow(b - 3 * n, 2))\n",
    "                               \n",
    "        if (distancia1 < n + 0.5 or\n",
    "            distancia2 < n + 0.5):\n",
    "            print(\"I\", end = \"\") # Cambiar la \"I\" por la letra que se desee\n",
    "        else:\n",
    "            print(\" \", end = \"\")   \n",
    "    print() # Línea final después de cada iteración\n",
    " \n",
    "# Imprimiendo la parte del mensaje y la parte inferior del corazón. El lazo exterior maneja la profundidad del corazón\n",
    "for a in range(1, 2 * n):\n",
    " \n",
    "    # Para obtener la curva inferior del corazón\n",
    "    for b in range(a):\n",
    "        print(\" \", end = \"\")\n",
    "         \n",
    "    # El bucle interno maneja el mensaje y los espacios en consecuencia\n",
    "    for b in range(4*n + 1 - 2*a):\n",
    "         \n",
    "        # Comprueba si la altura está dentro del rango del espacio del mensaje\n",
    "        if (a >= imprimir_mensaje - 1 and a <= imprimir_mensaje + 1):\n",
    "            punto = b - (4*n - 2*a - len(mensaje)) // 2\n",
    " \n",
    "            # Imprime el mensaje después de dejar el espacio apropiado\n",
    "            if (punto < len(mensaje) and punto >= 0):\n",
    "                if (a == imprimir_mensaje):\n",
    "                    print(mensaje[punto], end = \"\")\n",
    "                else:\n",
    "                    print(\" \", end = \"\")\n",
    "            else:\n",
    "                print(\"I\", end = \"\") # Cambiar la \"I\" por la letra que se desee\n",
    "        else:\n",
    "            print(\"I\", end = \"\") # Cambiar la \"I\" por la letra que se desee\n",
    "    print()"
   ]
  },
  {
   "cell_type": "markdown",
   "metadata": {},
   "source": [
    "### Sorpresa 4: Corazón en hoja de papel"
   ]
  },
  {
   "cell_type": "code",
   "execution_count": 6,
   "metadata": {},
   "outputs": [],
   "source": [
    "import numpy as np\n",
    "import matplotlib.pyplot as plt\n",
    "import matplotlib.ticker as tick"
   ]
  },
  {
   "cell_type": "code",
   "execution_count": 15,
   "metadata": {},
   "outputs": [
    {
     "name": "stderr",
     "output_type": "stream",
     "text": [
      "C:\\Users\\SANDRO\\Anaconda3\\lib\\site-packages\\ipykernel_launcher.py:21: MatplotlibDeprecationWarning: Adding an axes using the same arguments as a previous axes currently reuses the earlier instance.  In a future version, a new instance will always be created and returned.  Meanwhile, this warning can be suppressed, and the future behavior ensured, by passing a unique label to each axes instance.\n"
     ]
    },
    {
     "data": {
      "image/png": "[encoded data removed]",
      "text/plain": [
       "<Figure size 691.2x518.4 with 1 Axes>"
      ]
     },
     "metadata": {
      "needs_background": "light"
     },
     "output_type": "display_data"
    }
   ],
   "source": [
    "def plotear_corazon(mensaje, firma, archivo):\n",
    "    # Plotear los puntos\n",
    "    x = np.linspace(-1, 1, 10001)\n",
    "    y1 = np.sqrt(1 - np.abs(x)) * np.sqrt(np.abs(x))\n",
    "    y2 = (-3/2) * np.sqrt(1 - np.sqrt((np.abs(x))))\n",
    "    plt.plot(x, y1, color='red')\n",
    "    plt.plot(x, y2, color='red')\n",
    "\n",
    "    # Escribir mensaje\n",
    "    text_args = {'size': 'x-large', 'color': '#00c785', 'family': 'fantasy'}\n",
    "    plt.text(0, -0.4, mensaje, horizontalalignment='center', **text_args)\n",
    "    plt.text(0.98, -1.5, firma, horizontalalignment='right', **text_args)\n",
    "\n",
    "    # Establecer propiedades del gráfico\n",
    "    plt.xlim([-1.5, 1.5])\n",
    "    plt.ylim([-1.8, 0.8])\n",
    "    plt.tick_params(which='major', colors='blue', width='0.2')\n",
    "    plt.tick_params(which='minor', colors='blue', width='0.1')\n",
    "    plt.grid(True, which='major', color='purple', linestyle='-', linewidth='0.2')\n",
    "    plt.grid(True, which='minor', color='purple', linestyle='-', linewidth='0.1')\n",
    "    axes = plt.axes()\n",
    "    axes.set_aspect('equal')\n",
    "    axes.spines['bottom'].set_color('blue')\n",
    "    axes.spines['top'].set_color('blue')\n",
    "    axes.spines['right'].set_color('blue')\n",
    "    axes.spines['left'].set_color('blue')\n",
    "    axes.xaxis.set_major_locator(tick.MultipleLocator(0.5))\n",
    "    axes.xaxis.set_minor_locator(tick.MultipleLocator(0.1))\n",
    "    axes.yaxis.set_major_locator(tick.MultipleLocator(0.5))\n",
    "    axes.yaxis.set_minor_locator(tick.MultipleLocator(0.1))\n",
    "\n",
    "    # Guardar el gráfico en un archivo\n",
    "    grafico = plt.gcf()\n",
    "    grafico.set_size_inches(9.6, 7.2)\n",
    "    plt.savefig(archivo)\n",
    "\n",
    "plotear_corazon('Te amo, mi Solecito! <3', '\\u2014 Sandreke', 'proyecto2-corazon-2022-02-14.png')"
   ]
  },
  {
   "cell_type": "markdown",
   "metadata": {},
   "source": [
    "### Sorpresa 5: Dibujo y pintado de corazón rojo con mensaje interior"
   ]
  },
  {
   "cell_type": "code",
   "execution_count": 8,
   "metadata": {},
   "outputs": [],
   "source": [
    "import turtle"
   ]
  },
  {
   "cell_type": "code",
   "execution_count": 9,
   "metadata": {},
   "outputs": [],
   "source": [
    "# Color del fondo de la animación\n",
    "turtle.bgcolor(\"black\")\n",
    "\n",
    "# Crear un objeto Turtle (lápiz)\n",
    "pen = turtle.Turtle()\n",
    "pen.pencolor(\"red\")\n",
    "\n",
    "# Definir método para dibujar curvas\n",
    "def curva():\n",
    "    for i in range(200):\n",
    "        pen.right(1)\n",
    "        pen.forward(1)\n",
    "\n",
    "# Definir método para dibujar un corazón lleno\n",
    "def corazon():\n",
    "    pen.fillcolor('red')\n",
    "    pen.begin_fill()\n",
    "    pen.left(140)\n",
    "    pen.forward(113)\n",
    "    curva()\n",
    "    pen.left(120)\n",
    "    curva()\n",
    "    pen.forward(112)\n",
    "    pen.end_fill()\n",
    "\n",
    "# Definir métodos para dibujar un corazón lleno\n",
    "def texto():\n",
    "    pen.up()\n",
    "    pen.setpos(-80, 95)\n",
    "    pen.down()\n",
    "    pen.color('white')\n",
    "    pen.write('Te amo, mi solecito!',font=(\"Verdana\", 12, \"bold\"))\n",
    "\n",
    "corazon()\n",
    "pen.ht()\n",
    "texto()\n",
    "turtle.done()"
   ]
  },
  {
   "cell_type": "markdown",
   "metadata": {},
   "source": [
    "### Sorpresa 6: Dibujo y pintado de corazones (usando Turtle)"
   ]
  },
  {
   "cell_type": "code",
   "execution_count": null,
   "metadata": {},
   "outputs": [],
   "source": [
    "# !pip install pythonturtle"
   ]
  },
  {
   "cell_type": "code",
   "execution_count": 10,
   "metadata": {},
   "outputs": [],
   "source": [
    "import turtle as t\n",
    "import random"
   ]
  },
  {
   "cell_type": "code",
   "execution_count": 21,
   "metadata": {},
   "outputs": [],
   "source": [
    "def hacerCorazon(tamano):\n",
    "    t.forward(tamano)\n",
    "    t.circle(tamano/2, 180)\n",
    "    t.right(90)\n",
    "    t.circle(tamano/2, 180)\n",
    "    t.forward(tamano)\n",
    "    t.left(90)\n",
    "\n",
    "def AmoAMiEnamorada(tamano, longitud, profundidad):\n",
    "    if profundidad == 0:\n",
    "        return\n",
    "    AmoAMiEnamorada(tamano*1.5, longitud, profundidad-1)\n",
    "    contador = 360\n",
    "    while contador > 0:\n",
    "        colorCorazon = random.randint(100, 255), random.randint(100, 255), random.randint(100, 255)\n",
    "        t.color(colorCorazon)\n",
    "        t.fillcolor(colorCorazon)\n",
    "        t.begin_fill()\n",
    "        hacerCorazon(tamano)\n",
    "        t.end_fill()\n",
    "        t.left(45)\n",
    "        contador = contador-45\n",
    "\n",
    "def main():\n",
    "    t.speed(0)\n",
    "    t.colormode(255)\n",
    "    AmoAMiEnamorada(20,0,8)\n",
    "    t.back(100)\n",
    "    t.color(\"white\")\n",
    "    t.write(\"Te amo, mi Solecito! <3\", move=False, align=\"left\", font=(\"Courier New\", 24, \"bold\"))\n",
    "    t.getcanvas().postscript(file = \"proyecto6-corazon-2022-02-14.eps\")\n",
    "    t.done()\n",
    "    \n",
    "main()"
   ]
  }
 ],
 "metadata": {
  "kernelspec": {
   "display_name": "Python 3",
   "language": "python",
   "name": "python3"
  },
  "language_info": {
   "codemirror_mode": {
    "name": "ipython",
    "version": 3
   },
   "file_extension": ".py",
   "mimetype": "text/x-python",
   "name": "python",
   "nbconvert_exporter": "python",
   "pygments_lexer": "ipython3",
   "version": "3.7.4"
  }
 },
 "nbformat": 4,
 "nbformat_minor": 2
}
